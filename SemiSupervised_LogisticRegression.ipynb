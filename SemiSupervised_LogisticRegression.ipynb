{
  "nbformat": 4,
  "nbformat_minor": 0,
  "metadata": {
    "colab": {
      "name": "IS_HW4_Q3.ipynb",
      "provenance": [],
      "collapsed_sections": []
    },
    "kernelspec": {
      "name": "python3",
      "display_name": "Python 3"
    },
    "language_info": {
      "name": "python"
    }
  },
  "cells": [
    {
      "cell_type": "code",
      "source": [
        "import numpy as np\n",
        "import pandas as pd\n",
        "import matplotlib.pyplot as plt\n",
        "from sklearn.model_selection import train_test_split\n",
        "from sklearn.preprocessing import StandardScaler\n",
        "from sklearn.linear_model import LogisticRegression\n",
        "from sklearn.pipeline import Pipeline\n",
        "from sklearn.metrics import roc_curve, roc_auc_score, classification_report, accuracy_score, confusion_matrix \n",
        "import seaborn as sns\n",
        "from sklearn.metrics import f1_score, confusion_matrix, plot_confusion_matrix"
      ],
      "metadata": {
        "id": "fG0i-eUFAcRc"
      },
      "execution_count": 1,
      "outputs": []
    },
    {
      "cell_type": "markdown",
      "source": [
        "# Question 3\n",
        "\n",
        "> Part 'A': *Logistic Regression*"
      ],
      "metadata": {
        "id": "rqf1AEPN_6ui"
      }
    },
    {
      "cell_type": "code",
      "source": [
        "# Sigmoid function\n",
        "#\n",
        "def sigmoid(z):\n",
        "    return 1 / (1 + np.exp(-z))\n",
        "# Creating sample Z points\n",
        "#\n",
        "z = np.arange(-5, 5, 0.1)\n",
        " \n",
        "# Invoking Sigmoid function on all Z points\n",
        "#\n",
        "phi_z = sigmoid(z)\n",
        " \n",
        "# Plotting the Sigmoid function\n",
        "#\n",
        "plt.plot(z, phi_z)\n",
        "plt.axvline(0.0, color='k')\n",
        "plt.xlabel('z')\n",
        "plt.ylabel('$\\phi(z)$')\n",
        "plt.yticks([0.0, 0.5, 1.0])\n",
        "ax = plt.gca()\n",
        "ax.yaxis.grid(True)\n",
        "plt.tight_layout()\n",
        "plt.show()"
      ],
      "metadata": {
        "colab": {
          "base_uri": "https://localhost:8080/",
          "height": 297
        },
        "id": "zo3Dq8SCFdlM",
        "outputId": "34028cf6-3cfe-4cf2-db9f-32f16fbf7ebd"
      },
      "execution_count": 2,
      "outputs": [
        {
          "output_type": "display_data",
          "data": {
            "image/png": "[encoded data removed]",
            "text/plain": [
              "<Figure size 432x288 with 1 Axes>"
            ]
          },
          "metadata": {
            "needs_background": "light"
          }
        }
      ]
    },
    {
      "cell_type": "code",
      "source": [
        "data = pd.read_csv(\"./Surgical.csv\")\n",
        "data = data.sample(frac=1)\n",
        "print(data.head())"
      ],
      "metadata": {
        "colab": {
          "base_uri": "https://localhost:8080/"
        },
        "id": "ZIzEF2raBQsY",
        "outputId": "ea8d554e-0b50-49ab-af26-4c417e9926ba"
      },
      "execution_count": 7,
      "outputs": [
        {
          "output_type": "stream",
          "name": "stdout",
          "text": [
            "         bmi   Age  asa_status  ...  mortality_rsi  race  complication\n",
            "10633  37.54  44.8           0  ...           0.00     1             0\n",
            "155    25.89  58.2           0  ...          -0.55     1             0\n",
            "4767   28.44  71.9           0  ...          -0.89     1             0\n",
            "7037   28.98  90.0           1  ...          -2.25     1             0\n",
            "8985   40.41  59.5           1  ...          -2.48     1             0\n",
            "\n",
            "[5 rows x 25 columns]\n"
          ]
        }
      ]
    },
    {
      "cell_type": "code",
      "source": [
        "# data = data.sample(frac=1, random_state=15).reset_index(drop=True)\n",
        "\n",
        "\n",
        "test_num = round(len (data)*0.25)\n",
        "train_num = test_num + round(len(data)*0.01)\n",
        "unlab_num = train_num + round(len(data)*0.74)\n",
        "\n",
        "\n",
        "# Partition the data\n",
        "\n",
        "test = data.iloc[:test_num]\n",
        "train = data.iloc[test_num:train_num]\n",
        "unlab = data.iloc[train_num:unlab_num]\n",
        "\n",
        "\n",
        "# Assign data to train, test, and unlabeled sets\n",
        "\n",
        "X_train_lab = train.drop('complication', axis=1)\n",
        "y_train_lab = train.complication\n",
        "\n",
        "X_unlab = unlab.drop('complication', axis=1)\n",
        "\n",
        "X_test = test.drop('complication', axis=1)\n",
        "y_test = test.complication\n",
        "\n",
        "\n",
        "# Check dimensions of data after splitting\n",
        "\n",
        "print(f\"X_train dimensions: {X_train_lab.shape}\")\n",
        "print(f\"y_train dimensions: {y_train_lab.shape}\\n\")\n",
        "\n",
        "print(f\"X_test dimensions: {X_test.shape}\")\n",
        "print(f\"y_test dimensions: {y_test.shape}\\n\")\n",
        "\n",
        "print(f\"X_unlabeled dimensions: {X_unlab.shape}\")"
      ],
      "metadata": {
        "colab": {
          "base_uri": "https://localhost:8080/"
        },
        "id": "RH5_SlTHW9j-",
        "outputId": "fc602aa5-cd34-4044-dae9-5599af9b4c55"
      },
      "execution_count": 8,
      "outputs": [
        {
          "output_type": "stream",
          "name": "stdout",
          "text": [
            "X_train dimensions: (146, 24)\n",
            "y_train dimensions: (146,)\n",
            "\n",
            "X_test dimensions: (3659, 24)\n",
            "y_test dimensions: (3659,)\n",
            "\n",
            "X_unlabeled dimensions: (10830, 24)\n"
          ]
        }
      ]
    },
    {
      "cell_type": "code",
      "source": [
        "y_train_lab.value_counts().plot(kind='bar')\n",
        "plt.xticks([0,1], ['0', '1'])\n",
        "plt.ylabel('Count');"
      ],
      "metadata": {
        "colab": {
          "base_uri": "https://localhost:8080/",
          "height": 262
        },
        "id": "fISiuyDhMui2",
        "outputId": "30284c59-6174-4091-efaa-ab191df86d3e"
      },
      "execution_count": 9,
      "outputs": [
        {
          "output_type": "display_data",
          "data": {
            "image/png": "[encoded data removed]",
            "text/plain": [
              "<Figure size 432x288 with 1 Axes>"
            ]
          },
          "metadata": {
            "needs_background": "light"
          }
        }
      ]
    },
    {
      "cell_type": "markdown",
      "source": [
        "> Part 'B': *Evaluating Classifier*"
      ],
      "metadata": {
        "id": "pEcYprTsR9zI"
      }
    },
    {
      "cell_type": "code",
      "source": [
        "model = LogisticRegression()\n",
        "# fit model on labeled dataset\n",
        "model.fit(X_train_lab, y_train_lab)"
      ],
      "metadata": {
        "colab": {
          "base_uri": "https://localhost:8080/"
        },
        "id": "GuQXhGZ9SI9s",
        "outputId": "f30b064e-1f67-45c3-f1be-158042e2fe3a"
      },
      "execution_count": 10,
      "outputs": [
        {
          "output_type": "stream",
          "name": "stderr",
          "text": [
            "/usr/local/lib/python3.7/dist-packages/sklearn/linear_model/_logistic.py:818: ConvergenceWarning: lbfgs failed to converge (status=1):\n",
            "STOP: TOTAL NO. of ITERATIONS REACHED LIMIT.\n",
            "\n",
            "Increase the number of iterations (max_iter) or scale the data as shown in:\n",
            "    https://scikit-learn.org/stable/modules/preprocessing.html\n",
            "Please also refer to the documentation for alternative solver options:\n",
            "    https://scikit-learn.org/stable/modules/linear_model.html#logistic-regression\n",
            "  extra_warning_msg=_LOGISTIC_SOLVER_CONVERGENCE_MSG,\n"
          ]
        },
        {
          "output_type": "execute_result",
          "data": {
            "text/plain": [
              "LogisticRegression()"
            ]
          },
          "metadata": {},
          "execution_count": 10
        }
      ]
    },
    {
      "cell_type": "code",
      "source": [
        "yhat_test = model.predict(X_test)\n",
        "yhat_train = model.predict(X_train_lab)\n",
        "\n",
        "\n",
        "accuracy_test = accuracy_score(y_test, yhat_test)\n",
        "accuracy_train = accuracy_score(y_train_lab, yhat_train)\n",
        "\n",
        "f1_score_test = f1_score(y_test, yhat_test)\n",
        "f1_score_train = f1_score(y_train_lab, yhat_train)\n",
        "\n",
        "confusion_matrix_test = confusion_matrix(y_test, yhat_test)\n",
        "confusion_matrix_train = confusion_matrix(y_train_lab, yhat_train)\n",
        "\n",
        "# summarize score\n",
        "print(f\"Train Accuracy: {accuracy_train}\")\n",
        "print(f\"Test Accuracy: {accuracy_test}\")\n",
        "\n",
        "print(f\"Train f1 Score: {f1_score_train}\")\n",
        "print(f\"Test f1 Score: {f1_score_test}\")\n",
        "\n",
        "plot_confusion_matrix(model, X_test, y_test, cmap='Blues', normalize='true', display_labels=['No Comp.', 'Comp'])"
      ],
      "metadata": {
        "colab": {
          "base_uri": "https://localhost:8080/",
          "height": 420
        },
        "id": "iS43UZMfSSIZ",
        "outputId": "a1935570-2a7a-4575-9967-eb01fd4c3f7d"
      },
      "execution_count": 11,
      "outputs": [
        {
          "output_type": "stream",
          "name": "stdout",
          "text": [
            "Train Accuracy: 0.821917808219178\n",
            "Test Accuracy: 0.7671494943973763\n",
            "Train f1 Score: 0.6176470588235294\n",
            "Test f1 Score: 0.44747081712062253\n"
          ]
        },
        {
          "output_type": "stream",
          "name": "stderr",
          "text": [
            "/usr/local/lib/python3.7/dist-packages/sklearn/utils/deprecation.py:87: FutureWarning: Function plot_confusion_matrix is deprecated; Function `plot_confusion_matrix` is deprecated in 1.0 and will be removed in 1.2. Use one of the class methods: ConfusionMatrixDisplay.from_predictions or ConfusionMatrixDisplay.from_estimator.\n",
            "  warnings.warn(msg, category=FutureWarning)\n"
          ]
        },
        {
          "output_type": "execute_result",
          "data": {
            "text/plain": [
              "<sklearn.metrics._plot.confusion_matrix.ConfusionMatrixDisplay at 0x7f94e91d3b10>"
            ]
          },
          "metadata": {},
          "execution_count": 11
        },
        {
          "output_type": "display_data",
          "data": {
            "image/png": "[encoded data removed]",
            "text/plain": [
              "<Figure size 432x288 with 2 Axes>"
            ]
          },
          "metadata": {
            "needs_background": "light"
          }
        }
      ]
    },
    {
      "cell_type": "markdown",
      "source": [
        "> Part 'C': *Self-Training*"
      ],
      "metadata": {
        "id": "1OZ94LUeczFl"
      }
    },
    {
      "cell_type": "code",
      "source": [
        "#predict probs\n",
        "predict_probs = model.predict_proba(X_test)\n",
        "print(predict_probs)"
      ],
      "metadata": {
        "id": "IUAs4devc6yC",
        "colab": {
          "base_uri": "https://localhost:8080/"
        },
        "outputId": "6107b76f-468c-4973-8aaa-1d5ca6e042aa"
      },
      "execution_count": 12,
      "outputs": [
        {
          "output_type": "stream",
          "name": "stdout",
          "text": [
            "[[0.83562904 0.16437096]\n",
            " [0.54223452 0.45776548]\n",
            " [0.83740574 0.16259426]\n",
            " ...\n",
            " [0.11722494 0.88277506]\n",
            " [0.94745207 0.05254793]\n",
            " [0.94745207 0.05254793]]\n"
          ]
        }
      ]
    },
    {
      "cell_type": "code",
      "source": [
        "# Initiate iteration counter\n",
        "iterations = 0\n",
        "\n",
        "# Containers to hold f1_scores and # of pseudo-labels\n",
        "train_f1s = []\n",
        "test_f1s = []\n",
        "pseudo_labels = []\n",
        "\n",
        "# Assign value to initiate while loop\n",
        "high_prob = [1] \n",
        "\n",
        "# Loop will run until there are no more high-probability pseudo-labels\n",
        "while len(high_prob) > 0:\n",
        "        \n",
        "    # Fit classifier and make train/test predictions\n",
        "    clf = LogisticRegression(max_iter=1000)\n",
        "    clf.fit(X_train_lab, y_train_lab)\n",
        "    y_hat_train = clf.predict(X_train_lab)\n",
        "    y_hat_test = clf.predict(X_test)\n",
        "\n",
        "    # Calculate and print iteration # and f1 scores, and store f1 scores\n",
        "    train_f1 = f1_score(y_train_lab, y_hat_train)\n",
        "    test_f1 = f1_score(y_test, y_hat_test)\n",
        "    print(f\"Iteration {iterations}\")\n",
        "    print(f\"Train f1: {train_f1}\")\n",
        "    print(f\"Test f1: {test_f1}\")\n",
        "    train_f1s.append(train_f1)\n",
        "    test_f1s.append(test_f1)\n",
        "   \n",
        "    # Generate predictions and probabilities for unlabeled data\n",
        "    print(f\"Now predicting labels for unlabeled data...\")\n",
        "\n",
        "    pred_probs = clf.predict_proba(X_unlab)\n",
        "    preds = clf.predict(X_unlab)\n",
        "    prob_0 = pred_probs[:,0]\n",
        "    prob_1 = pred_probs[:,1]\n",
        "\n",
        "    # Store predictions and probabilities in dataframe\n",
        "    df_pred_prob = pd.DataFrame([])\n",
        "    df_pred_prob['preds'] = preds\n",
        "    df_pred_prob['prob_0'] = prob_0\n",
        "    df_pred_prob['prob_1'] = prob_1\n",
        "    df_pred_prob.index = X_unlab.index\n",
        "    \n",
        "    # Separate predictions with > 99% probability\n",
        "    high_prob = pd.concat([df_pred_prob.loc[df_pred_prob['prob_0'] > 0.99],\n",
        "                           df_pred_prob.loc[df_pred_prob['prob_1'] > 0.99]],\n",
        "                          axis=0)\n",
        "    \n",
        "    print(f\"{len(high_prob)} high-probability predictions added to training data.\")\n",
        "    \n",
        "    pseudo_labels.append(len(high_prob))\n",
        "\n",
        "    # Add pseudo-labeled data to training data\n",
        "    X_train_lab = pd.concat([X_train_lab, X_unlab.loc[high_prob.index]], axis=0)\n",
        "    y_train_lab = pd.concat([y_train_lab, high_prob.preds])      \n",
        "    \n",
        "    # Drop pseudo-labeled instances from unlabeled data\n",
        "    X_unlab = X_unlab.drop(index=high_prob.index)\n",
        "    print(f\"{len(X_unlab)} unlabeled instances remaining.\\n\")\n",
        "    \n",
        "    # Update iteration counter\n",
        "    iterations += 1"
      ],
      "metadata": {
        "colab": {
          "base_uri": "https://localhost:8080/"
        },
        "id": "Hg5VzEi3JlTk",
        "outputId": "cbf14b6e-5058-4224-c2d2-ad4ab60293c8"
      },
      "execution_count": 13,
      "outputs": [
        {
          "output_type": "stream",
          "name": "stdout",
          "text": [
            "Iteration 0\n",
            "Train f1: 0.5846153846153846\n",
            "Test f1: 0.4373368146214099\n",
            "Now predicting labels for unlabeled data...\n",
            "403 high-probability predictions added to training data.\n",
            "10427 unlabeled instances remaining.\n",
            "\n",
            "Iteration 1\n",
            "Train f1: 0.6888888888888889\n",
            "Test f1: 0.440721649484536\n",
            "Now predicting labels for unlabeled data...\n",
            "308 high-probability predictions added to training data.\n",
            "10119 unlabeled instances remaining.\n",
            "\n",
            "Iteration 2\n",
            "Train f1: 0.7941176470588235\n",
            "Test f1: 0.43472668810289383\n",
            "Now predicting labels for unlabeled data...\n",
            "231 high-probability predictions added to training data.\n",
            "9888 unlabeled instances remaining.\n",
            "\n",
            "Iteration 3\n",
            "Train f1: 0.8613861386138614\n",
            "Test f1: 0.43550446998722864\n",
            "Now predicting labels for unlabeled data...\n",
            "160 high-probability predictions added to training data.\n",
            "9728 unlabeled instances remaining.\n",
            "\n",
            "Iteration 4\n",
            "Train f1: 0.8793103448275861\n",
            "Test f1: 0.4370607028753994\n",
            "Now predicting labels for unlabeled data...\n",
            "131 high-probability predictions added to training data.\n",
            "9597 unlabeled instances remaining.\n",
            "\n",
            "Iteration 5\n",
            "Train f1: 0.8842975206611571\n",
            "Test f1: 0.4357827476038339\n",
            "Now predicting labels for unlabeled data...\n",
            "108 high-probability predictions added to training data.\n",
            "9489 unlabeled instances remaining.\n",
            "\n",
            "Iteration 6\n",
            "Train f1: 0.890625\n",
            "Test f1: 0.4327784891165173\n",
            "Now predicting labels for unlabeled data...\n",
            "75 high-probability predictions added to training data.\n",
            "9414 unlabeled instances remaining.\n",
            "\n",
            "Iteration 7\n",
            "Train f1: 0.8962962962962964\n",
            "Test f1: 0.4329501915708812\n",
            "Now predicting labels for unlabeled data...\n",
            "68 high-probability predictions added to training data.\n",
            "9346 unlabeled instances remaining.\n",
            "\n",
            "Iteration 8\n",
            "Train f1: 0.9007092198581559\n",
            "Test f1: 0.43384223918575066\n",
            "Now predicting labels for unlabeled data...\n",
            "59 high-probability predictions added to training data.\n",
            "9287 unlabeled instances remaining.\n",
            "\n",
            "Iteration 9\n",
            "Train f1: 0.9041095890410958\n",
            "Test f1: 0.4361093452002543\n",
            "Now predicting labels for unlabeled data...\n",
            "44 high-probability predictions added to training data.\n",
            "9243 unlabeled instances remaining.\n",
            "\n",
            "Iteration 10\n",
            "Train f1: 0.9016949152542374\n",
            "Test f1: 0.4353914704010184\n",
            "Now predicting labels for unlabeled data...\n",
            "43 high-probability predictions added to training data.\n",
            "9200 unlabeled instances remaining.\n",
            "\n",
            "Iteration 11\n",
            "Train f1: 0.9016949152542374\n",
            "Test f1: 0.434561626429479\n",
            "Now predicting labels for unlabeled data...\n",
            "39 high-probability predictions added to training data.\n",
            "9161 unlabeled instances remaining.\n",
            "\n",
            "Iteration 12\n",
            "Train f1: 0.9030100334448159\n",
            "Test f1: 0.4341183959261617\n",
            "Now predicting labels for unlabeled data...\n",
            "31 high-probability predictions added to training data.\n",
            "9130 unlabeled instances remaining.\n",
            "\n",
            "Iteration 13\n",
            "Train f1: 0.9042904290429044\n",
            "Test f1: 0.4341183959261617\n",
            "Now predicting labels for unlabeled data...\n",
            "40 high-probability predictions added to training data.\n",
            "9090 unlabeled instances remaining.\n",
            "\n",
            "Iteration 14\n",
            "Train f1: 0.9067524115755626\n",
            "Test f1: 0.43422733077905495\n",
            "Now predicting labels for unlabeled data...\n",
            "35 high-probability predictions added to training data.\n",
            "9055 unlabeled instances remaining.\n",
            "\n",
            "Iteration 15\n",
            "Train f1: 0.9079365079365078\n",
            "Test f1: 0.4357827476038339\n",
            "Now predicting labels for unlabeled data...\n",
            "28 high-probability predictions added to training data.\n",
            "9027 unlabeled instances remaining.\n",
            "\n",
            "Iteration 16\n",
            "Train f1: 0.9085173501577286\n",
            "Test f1: 0.43494897959183676\n",
            "Now predicting labels for unlabeled data...\n",
            "29 high-probability predictions added to training data.\n",
            "8998 unlabeled instances remaining.\n",
            "\n",
            "Iteration 17\n",
            "Train f1: 0.9085173501577286\n",
            "Test f1: 0.43422733077905495\n",
            "Now predicting labels for unlabeled data...\n",
            "25 high-probability predictions added to training data.\n",
            "8973 unlabeled instances remaining.\n",
            "\n",
            "Iteration 18\n",
            "Train f1: 0.9090909090909091\n",
            "Test f1: 0.43450479233226835\n",
            "Now predicting labels for unlabeled data...\n",
            "31 high-probability predictions added to training data.\n",
            "8942 unlabeled instances remaining.\n",
            "\n",
            "Iteration 19\n",
            "Train f1: 0.9090909090909091\n",
            "Test f1: 0.43478260869565216\n",
            "Now predicting labels for unlabeled data...\n",
            "32 high-probability predictions added to training data.\n",
            "8910 unlabeled instances remaining.\n",
            "\n",
            "Iteration 20\n",
            "Train f1: 0.9125\n",
            "Test f1: 0.43606138107416875\n",
            "Now predicting labels for unlabeled data...\n",
            "28 high-probability predictions added to training data.\n",
            "8882 unlabeled instances remaining.\n",
            "\n",
            "Iteration 21\n",
            "Train f1: 0.9125\n",
            "Test f1: 0.4353393085787452\n",
            "Now predicting labels for unlabeled data...\n",
            "24 high-probability predictions added to training data.\n",
            "8858 unlabeled instances remaining.\n",
            "\n",
            "Iteration 22\n",
            "Train f1: 0.9125\n",
            "Test f1: 0.4366197183098592\n",
            "Now predicting labels for unlabeled data...\n",
            "22 high-probability predictions added to training data.\n",
            "8836 unlabeled instances remaining.\n",
            "\n",
            "Iteration 23\n",
            "Train f1: 0.9125\n",
            "Test f1: 0.4343369634849455\n",
            "Now predicting labels for unlabeled data...\n",
            "20 high-probability predictions added to training data.\n",
            "8816 unlabeled instances remaining.\n",
            "\n",
            "Iteration 24\n",
            "Train f1: 0.9146341463414636\n",
            "Test f1: 0.4333333333333333\n",
            "Now predicting labels for unlabeled data...\n",
            "15 high-probability predictions added to training data.\n",
            "8801 unlabeled instances remaining.\n",
            "\n",
            "Iteration 25\n",
            "Train f1: 0.9146341463414636\n",
            "Test f1: 0.4323284156510584\n",
            "Now predicting labels for unlabeled data...\n",
            "9 high-probability predictions added to training data.\n",
            "8792 unlabeled instances remaining.\n",
            "\n",
            "Iteration 26\n",
            "Train f1: 0.9146341463414636\n",
            "Test f1: 0.4313222079589217\n",
            "Now predicting labels for unlabeled data...\n",
            "11 high-probability predictions added to training data.\n",
            "8781 unlabeled instances remaining.\n",
            "\n",
            "Iteration 27\n",
            "Train f1: 0.9113149847094801\n",
            "Test f1: 0.43059125964010286\n",
            "Now predicting labels for unlabeled data...\n",
            "9 high-probability predictions added to training data.\n",
            "8772 unlabeled instances remaining.\n",
            "\n",
            "Iteration 28\n",
            "Train f1: 0.9123867069486403\n",
            "Test f1: 0.42930591259640105\n",
            "Now predicting labels for unlabeled data...\n",
            "10 high-probability predictions added to training data.\n",
            "8762 unlabeled instances remaining.\n",
            "\n",
            "Iteration 29\n",
            "Train f1: 0.9123867069486403\n",
            "Test f1: 0.42958199356913185\n",
            "Now predicting labels for unlabeled data...\n",
            "13 high-probability predictions added to training data.\n",
            "8749 unlabeled instances remaining.\n",
            "\n",
            "Iteration 30\n",
            "Train f1: 0.9129129129129129\n",
            "Test f1: 0.42958199356913185\n",
            "Now predicting labels for unlabeled data...\n",
            "12 high-probability predictions added to training data.\n",
            "8737 unlabeled instances remaining.\n",
            "\n",
            "Iteration 31\n",
            "Train f1: 0.9134328358208955\n",
            "Test f1: 0.42958199356913185\n",
            "Now predicting labels for unlabeled data...\n",
            "10 high-probability predictions added to training data.\n",
            "8727 unlabeled instances remaining.\n",
            "\n",
            "Iteration 32\n",
            "Train f1: 0.9144542772861357\n",
            "Test f1: 0.43059125964010286\n",
            "Now predicting labels for unlabeled data...\n",
            "12 high-probability predictions added to training data.\n",
            "8715 unlabeled instances remaining.\n",
            "\n",
            "Iteration 33\n",
            "Train f1: 0.9144542772861357\n",
            "Test f1: 0.4303147077713552\n",
            "Now predicting labels for unlabeled data...\n",
            "10 high-probability predictions added to training data.\n",
            "8705 unlabeled instances remaining.\n",
            "\n",
            "Iteration 34\n",
            "Train f1: 0.9144542772861357\n",
            "Test f1: 0.43059125964010286\n",
            "Now predicting labels for unlabeled data...\n",
            "15 high-probability predictions added to training data.\n",
            "8690 unlabeled instances remaining.\n",
            "\n",
            "Iteration 35\n",
            "Train f1: 0.9144542772861357\n",
            "Test f1: 0.4298584298584298\n",
            "Now predicting labels for unlabeled data...\n",
            "9 high-probability predictions added to training data.\n",
            "8681 unlabeled instances remaining.\n",
            "\n",
            "Iteration 36\n",
            "Train f1: 0.911242603550296\n",
            "Test f1: 0.4301352221506761\n",
            "Now predicting labels for unlabeled data...\n",
            "5 high-probability predictions added to training data.\n",
            "8676 unlabeled instances remaining.\n",
            "\n",
            "Iteration 37\n",
            "Train f1: 0.911242603550296\n",
            "Test f1: 0.4301352221506761\n",
            "Now predicting labels for unlabeled data...\n",
            "5 high-probability predictions added to training data.\n",
            "8671 unlabeled instances remaining.\n",
            "\n",
            "Iteration 38\n",
            "Train f1: 0.911242603550296\n",
            "Test f1: 0.43041237113402064\n",
            "Now predicting labels for unlabeled data...\n",
            "5 high-probability predictions added to training data.\n",
            "8666 unlabeled instances remaining.\n",
            "\n",
            "Iteration 39\n",
            "Train f1: 0.9117647058823529\n",
            "Test f1: 0.4314230521571153\n",
            "Now predicting labels for unlabeled data...\n",
            "2 high-probability predictions added to training data.\n",
            "8664 unlabeled instances remaining.\n",
            "\n",
            "Iteration 40\n",
            "Train f1: 0.9117647058823529\n",
            "Test f1: 0.4314230521571153\n",
            "Now predicting labels for unlabeled data...\n",
            "3 high-probability predictions added to training data.\n",
            "8661 unlabeled instances remaining.\n",
            "\n",
            "Iteration 41\n",
            "Train f1: 0.9117647058823529\n",
            "Test f1: 0.4311454311454312\n",
            "Now predicting labels for unlabeled data...\n",
            "3 high-probability predictions added to training data.\n",
            "8658 unlabeled instances remaining.\n",
            "\n",
            "Iteration 42\n",
            "Train f1: 0.9117647058823529\n",
            "Test f1: 0.4311454311454312\n",
            "Now predicting labels for unlabeled data...\n",
            "0 high-probability predictions added to training data.\n",
            "8658 unlabeled instances remaining.\n",
            "\n"
          ]
        }
      ]
    },
    {
      "cell_type": "code",
      "source": [
        "fig, (ax1, ax2) = plt.subplots(nrows=2, ncols=1, figsize=(6,8))\n",
        "ax1.plot(range(iterations), test_f1s)\n",
        "ax1.set_ylabel('f1 Score')\n",
        "ax2.bar(x=range(iterations), height=pseudo_labels)\n",
        "ax2.set_ylabel('Pseudo-Labels Created')\n",
        "ax2.set_xlabel('# Iterations');\n",
        "\n",
        "plot_confusion_matrix(clf, X_test, y_test, cmap='Blues', normalize='true',\n",
        "                     display_labels=['No Comp.', 'Complication']);"
      ],
      "metadata": {
        "colab": {
          "base_uri": "https://localhost:8080/",
          "height": 817
        },
        "id": "ufVSykLITU3p",
        "outputId": "f68d0a38-e5d1-44e2-bdbf-c70c5e30c287"
      },
      "execution_count": 14,
      "outputs": [
        {
          "output_type": "stream",
          "name": "stderr",
          "text": [
            "/usr/local/lib/python3.7/dist-packages/sklearn/utils/deprecation.py:87: FutureWarning: Function plot_confusion_matrix is deprecated; Function `plot_confusion_matrix` is deprecated in 1.0 and will be removed in 1.2. Use one of the class methods: ConfusionMatrixDisplay.from_predictions or ConfusionMatrixDisplay.from_estimator.\n",
            "  warnings.warn(msg, category=FutureWarning)\n"
          ]
        },
        {
          "output_type": "display_data",
          "data": {
            "image/png": "[encoded data removed]",
            "text/plain": [
              "<Figure size 432x576 with 2 Axes>"
            ]
          },
          "metadata": {
            "needs_background": "light"
          }
        },
        {
          "output_type": "display_data",
          "data": {
            "image/png": "[encoded data removed]",
            "text/plain": [
              "<Figure size 432x288 with 2 Axes>"
            ]
          },
          "metadata": {
            "needs_background": "light"
          }
        }
      ]
    },
    {
      "cell_type": "code",
      "source": [
        ""
      ],
      "metadata": {
        "id": "an7gd34x3TCh"
      },
      "execution_count": 14,
      "outputs": []
    }
  ]
}